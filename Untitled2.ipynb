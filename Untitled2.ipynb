{
 "cells": [
  {
   "cell_type": "code",
   "execution_count": 2,
   "metadata": {
    "collapsed": true
   },
   "outputs": [],
   "source": [
    "\n",
    "import pandas as pd\n"
   ]
  },
  {
   "cell_type": "code",
   "execution_count": 3,
   "metadata": {},
   "outputs": [],
   "source": [
    "# Load the twitter data into CSV file\n",
    "\n",
    "dataf = pd.read_csv('C:/Users/Ankita Padwal/Desktop/Data Mining Projetc/FinalData/Tweets50k.csv', index_col=0)"
   ]
  },
  {
   "cell_type": "code",
   "execution_count": 4,
   "metadata": {},
   "outputs": [
    {
     "data": {
      "text/html": [
       "<div>\n",
       "<style>\n",
       "    .dataframe thead tr:only-child th {\n",
       "        text-align: right;\n",
       "    }\n",
       "\n",
       "    .dataframe thead th {\n",
       "        text-align: left;\n",
       "    }\n",
       "\n",
       "    .dataframe tbody tr th {\n",
       "        vertical-align: top;\n",
       "    }\n",
       "</style>\n",
       "<table border=\"1\" class=\"dataframe\">\n",
       "  <thead>\n",
       "    <tr style=\"text-align: right;\">\n",
       "      <th></th>\n",
       "      <th>Tweet_ID</th>\n",
       "      <th>Time_Info</th>\n",
       "      <th>Time_Info.1</th>\n",
       "      <th>Time_Info.2</th>\n",
       "      <th>User_Name</th>\n",
       "      <th>Brand Name</th>\n",
       "      <th>TweetText</th>\n",
       "      <th>No_of_Retweets</th>\n",
       "      <th>Favorite_Count</th>\n",
       "      <th>Place</th>\n",
       "      <th>Time_Zone</th>\n",
       "    </tr>\n",
       "  </thead>\n",
       "  <tbody>\n",
       "    <tr>\n",
       "      <th>0</th>\n",
       "      <td>9.883260e+17</td>\n",
       "      <td>4/23/2018 7:58</td>\n",
       "      <td>4/23/2018</td>\n",
       "      <td>7:58:00 AM</td>\n",
       "      <td>hauspa</td>\n",
       "      <td>ASOS</td>\n",
       "      <td>b'@changeist and @madelineashby talked about t...</td>\n",
       "      <td>0</td>\n",
       "      <td>0</td>\n",
       "      <td>Amsterdam, The Netherlands</td>\n",
       "      <td>Amsterdam</td>\n",
       "    </tr>\n",
       "    <tr>\n",
       "      <th>1</th>\n",
       "      <td>9.883260e+17</td>\n",
       "      <td>4/23/2018 7:58</td>\n",
       "      <td>4/23/2018</td>\n",
       "      <td>7:58:00 AM</td>\n",
       "      <td>_shekss</td>\n",
       "      <td>ASOS</td>\n",
       "      <td>b'RT @TEEWEAR: This is my work and I really ca...</td>\n",
       "      <td>14</td>\n",
       "      <td>0</td>\n",
       "      <td>london</td>\n",
       "      <td>Hawaii</td>\n",
       "    </tr>\n",
       "    <tr>\n",
       "      <th>2</th>\n",
       "      <td>9.883260e+17</td>\n",
       "      <td>4/23/2018 7:58</td>\n",
       "      <td>4/23/2018</td>\n",
       "      <td>7:58:00 AM</td>\n",
       "      <td>olu_neyo</td>\n",
       "      <td>ASOS</td>\n",
       "      <td>b'@ASOS_HeretoHelp Please check your DM. I hav...</td>\n",
       "      <td>0</td>\n",
       "      <td>0</td>\n",
       "      <td>Yigo, GU</td>\n",
       "      <td>NaN</td>\n",
       "    </tr>\n",
       "    <tr>\n",
       "      <th>3</th>\n",
       "      <td>9.883260e+17</td>\n",
       "      <td>4/23/2018 7:57</td>\n",
       "      <td>4/23/2018</td>\n",
       "      <td>7:57:00 AM</td>\n",
       "      <td>amyandelizabeth</td>\n",
       "      <td>ASOS</td>\n",
       "      <td>b'Me: I just want a nice pair of jeans that pu...</td>\n",
       "      <td>0</td>\n",
       "      <td>2</td>\n",
       "      <td>London, England</td>\n",
       "      <td>London</td>\n",
       "    </tr>\n",
       "    <tr>\n",
       "      <th>4</th>\n",
       "      <td>9.883260e+17</td>\n",
       "      <td>4/23/2018 7:57</td>\n",
       "      <td>4/23/2018</td>\n",
       "      <td>7:57:00 AM</td>\n",
       "      <td>Joseluisalgar</td>\n",
       "      <td>ASOS</td>\n",
       "      <td>b'Vale asos y kiabi tienen tallas grandes, per...</td>\n",
       "      <td>0</td>\n",
       "      <td>0</td>\n",
       "      <td>Barcelona</td>\n",
       "      <td>NaN</td>\n",
       "    </tr>\n",
       "    <tr>\n",
       "      <th>5</th>\n",
       "      <td>9.883260e+17</td>\n",
       "      <td>4/23/2018 7:57</td>\n",
       "      <td>4/23/2018</td>\n",
       "      <td>7:57:00 AM</td>\n",
       "      <td>demicolleen</td>\n",
       "      <td>ASOS</td>\n",
       "      <td>b'RT @TEEWEAR: This is my work and I really ca...</td>\n",
       "      <td>14</td>\n",
       "      <td>0</td>\n",
       "      <td>London.</td>\n",
       "      <td>London</td>\n",
       "    </tr>\n",
       "    <tr>\n",
       "      <th>6</th>\n",
       "      <td>9.883260e+17</td>\n",
       "      <td>4/23/2018 7:56</td>\n",
       "      <td>4/23/2018</td>\n",
       "      <td>7:56:00 AM</td>\n",
       "      <td>olu_neyo</td>\n",
       "      <td>ASOS</td>\n",
       "      <td>b'@ASOS_HeretoHelp Please check your DM. I hav...</td>\n",
       "      <td>0</td>\n",
       "      <td>0</td>\n",
       "      <td>Yigo, GU</td>\n",
       "      <td>NaN</td>\n",
       "    </tr>\n",
       "  </tbody>\n",
       "</table>\n",
       "</div>"
      ],
      "text/plain": [
       "       Tweet_ID       Time_Info Time_Info.1 Time_Info.2        User_Name  \\\n",
       "0  9.883260e+17  4/23/2018 7:58   4/23/2018  7:58:00 AM           hauspa   \n",
       "1  9.883260e+17  4/23/2018 7:58   4/23/2018  7:58:00 AM          _shekss   \n",
       "2  9.883260e+17  4/23/2018 7:58   4/23/2018  7:58:00 AM         olu_neyo   \n",
       "3  9.883260e+17  4/23/2018 7:57   4/23/2018  7:57:00 AM  amyandelizabeth   \n",
       "4  9.883260e+17  4/23/2018 7:57   4/23/2018  7:57:00 AM    Joseluisalgar   \n",
       "5  9.883260e+17  4/23/2018 7:57   4/23/2018  7:57:00 AM      demicolleen   \n",
       "6  9.883260e+17  4/23/2018 7:56   4/23/2018  7:56:00 AM         olu_neyo   \n",
       "\n",
       "  Brand Name                                          TweetText  \\\n",
       "0       ASOS  b'@changeist and @madelineashby talked about t...   \n",
       "1       ASOS  b'RT @TEEWEAR: This is my work and I really ca...   \n",
       "2       ASOS  b'@ASOS_HeretoHelp Please check your DM. I hav...   \n",
       "3       ASOS  b'Me: I just want a nice pair of jeans that pu...   \n",
       "4       ASOS  b'Vale asos y kiabi tienen tallas grandes, per...   \n",
       "5       ASOS  b'RT @TEEWEAR: This is my work and I really ca...   \n",
       "6       ASOS  b'@ASOS_HeretoHelp Please check your DM. I hav...   \n",
       "\n",
       "   No_of_Retweets  Favorite_Count                       Place  Time_Zone  \n",
       "0               0               0  Amsterdam, The Netherlands  Amsterdam  \n",
       "1              14               0                      london     Hawaii  \n",
       "2               0               0                    Yigo, GU        NaN  \n",
       "3               0               2             London, England     London  \n",
       "4               0               0                   Barcelona        NaN  \n",
       "5              14               0                    London.      London  \n",
       "6               0               0                    Yigo, GU        NaN  "
      ]
     },
     "execution_count": 4,
     "metadata": {},
     "output_type": "execute_result"
    }
   ],
   "source": [
    "#Print the head of dataframe\n",
    "\n",
    "dataf.head(7)"
   ]
  },
  {
   "cell_type": "code",
   "execution_count": 19,
   "metadata": {},
   "outputs": [
    {
     "name": "stdout",
     "output_type": "stream",
     "text": [
      "<class 'pandas.core.frame.DataFrame'>\n",
      "Int64Index: 52079 entries, 0 to 52078\n",
      "Data columns (total 11 columns):\n",
      "Tweet_ID          52079 non-null float64\n",
      "Time_Info         52079 non-null object\n",
      "Date              52079 non-null object\n",
      "Time              52079 non-null object\n",
      "User_Name         52079 non-null object\n",
      "Brand Name        52079 non-null object\n",
      "TweetText         52079 non-null object\n",
      "No_of_Retweets    52079 non-null int64\n",
      "Favorite_Count    52079 non-null int64\n",
      "Place             35608 non-null object\n",
      "Time_Zone         24304 non-null object\n",
      "dtypes: float64(1), int64(2), object(8)\n",
      "memory usage: 4.8+ MB\n"
     ]
    }
   ],
   "source": [
    "#FInd out if there is any null values\n",
    "\n",
    "dataf.info()"
   ]
  },
  {
   "cell_type": "code",
   "execution_count": 21,
   "metadata": {
    "collapsed": true
   },
   "outputs": [
    {
     "ename": "ValueError",
     "evalue": "labels ['Time_Info' 'Date' 'Time' 'No_of_Retweets' 'Favorite_Count' 'Place'\n 'Time_Zone'] not contained in axis",
     "output_type": "error",
     "traceback": [
      "\u001b[1;31m---------------------------------------------------------------------------\u001b[0m",
      "\u001b[1;31mValueError\u001b[0m                                Traceback (most recent call last)",
      "\u001b[1;32m<ipython-input-21-5d9a3d859129>\u001b[0m in \u001b[0;36m<module>\u001b[1;34m()\u001b[0m\n\u001b[1;32m----> 1\u001b[1;33m \u001b[0mdataf\u001b[0m\u001b[1;33m.\u001b[0m\u001b[0mdrop\u001b[0m\u001b[1;33m(\u001b[0m\u001b[1;33m[\u001b[0m\u001b[1;34m'Time_Info'\u001b[0m\u001b[1;33m,\u001b[0m\u001b[1;34m'Date'\u001b[0m\u001b[1;33m,\u001b[0m\u001b[1;34m'Time'\u001b[0m\u001b[1;33m,\u001b[0m\u001b[1;34m'No_of_Retweets'\u001b[0m\u001b[1;33m,\u001b[0m\u001b[1;34m'Favorite_Count'\u001b[0m\u001b[1;33m,\u001b[0m\u001b[1;34m'Place'\u001b[0m\u001b[1;33m,\u001b[0m\u001b[1;34m'Time_Zone'\u001b[0m\u001b[1;33m]\u001b[0m\u001b[1;33m,\u001b[0m\u001b[0maxis\u001b[0m\u001b[1;33m=\u001b[0m\u001b[1;36m1\u001b[0m\u001b[1;33m,\u001b[0m\u001b[0minplace\u001b[0m\u001b[1;33m=\u001b[0m\u001b[1;32mTrue\u001b[0m\u001b[1;33m)\u001b[0m\u001b[1;33m\u001b[0m\u001b[0m\n\u001b[0m",
      "\u001b[1;32mC:\\ProgramData\\Anaconda3\\lib\\site-packages\\pandas\\core\\generic.py\u001b[0m in \u001b[0;36mdrop\u001b[1;34m(self, labels, axis, level, inplace, errors)\u001b[0m\n\u001b[0;32m   2048\u001b[0m                 \u001b[0mnew_axis\u001b[0m \u001b[1;33m=\u001b[0m \u001b[0maxis\u001b[0m\u001b[1;33m.\u001b[0m\u001b[0mdrop\u001b[0m\u001b[1;33m(\u001b[0m\u001b[0mlabels\u001b[0m\u001b[1;33m,\u001b[0m \u001b[0mlevel\u001b[0m\u001b[1;33m=\u001b[0m\u001b[0mlevel\u001b[0m\u001b[1;33m,\u001b[0m \u001b[0merrors\u001b[0m\u001b[1;33m=\u001b[0m\u001b[0merrors\u001b[0m\u001b[1;33m)\u001b[0m\u001b[1;33m\u001b[0m\u001b[0m\n\u001b[0;32m   2049\u001b[0m             \u001b[1;32melse\u001b[0m\u001b[1;33m:\u001b[0m\u001b[1;33m\u001b[0m\u001b[0m\n\u001b[1;32m-> 2050\u001b[1;33m                 \u001b[0mnew_axis\u001b[0m \u001b[1;33m=\u001b[0m \u001b[0maxis\u001b[0m\u001b[1;33m.\u001b[0m\u001b[0mdrop\u001b[0m\u001b[1;33m(\u001b[0m\u001b[0mlabels\u001b[0m\u001b[1;33m,\u001b[0m \u001b[0merrors\u001b[0m\u001b[1;33m=\u001b[0m\u001b[0merrors\u001b[0m\u001b[1;33m)\u001b[0m\u001b[1;33m\u001b[0m\u001b[0m\n\u001b[0m\u001b[0;32m   2051\u001b[0m             \u001b[0mdropped\u001b[0m \u001b[1;33m=\u001b[0m \u001b[0mself\u001b[0m\u001b[1;33m.\u001b[0m\u001b[0mreindex\u001b[0m\u001b[1;33m(\u001b[0m\u001b[1;33m**\u001b[0m\u001b[1;33m{\u001b[0m\u001b[0maxis_name\u001b[0m\u001b[1;33m:\u001b[0m \u001b[0mnew_axis\u001b[0m\u001b[1;33m}\u001b[0m\u001b[1;33m)\u001b[0m\u001b[1;33m\u001b[0m\u001b[0m\n\u001b[0;32m   2052\u001b[0m             \u001b[1;32mtry\u001b[0m\u001b[1;33m:\u001b[0m\u001b[1;33m\u001b[0m\u001b[0m\n",
      "\u001b[1;32mC:\\ProgramData\\Anaconda3\\lib\\site-packages\\pandas\\core\\indexes\\base.py\u001b[0m in \u001b[0;36mdrop\u001b[1;34m(self, labels, errors)\u001b[0m\n\u001b[0;32m   3573\u001b[0m             \u001b[1;32mif\u001b[0m \u001b[0merrors\u001b[0m \u001b[1;33m!=\u001b[0m \u001b[1;34m'ignore'\u001b[0m\u001b[1;33m:\u001b[0m\u001b[1;33m\u001b[0m\u001b[0m\n\u001b[0;32m   3574\u001b[0m                 raise ValueError('labels %s not contained in axis' %\n\u001b[1;32m-> 3575\u001b[1;33m                                  labels[mask])\n\u001b[0m\u001b[0;32m   3576\u001b[0m             \u001b[0mindexer\u001b[0m \u001b[1;33m=\u001b[0m \u001b[0mindexer\u001b[0m\u001b[1;33m[\u001b[0m\u001b[1;33m~\u001b[0m\u001b[0mmask\u001b[0m\u001b[1;33m]\u001b[0m\u001b[1;33m\u001b[0m\u001b[0m\n\u001b[0;32m   3577\u001b[0m         \u001b[1;32mreturn\u001b[0m \u001b[0mself\u001b[0m\u001b[1;33m.\u001b[0m\u001b[0mdelete\u001b[0m\u001b[1;33m(\u001b[0m\u001b[0mindexer\u001b[0m\u001b[1;33m)\u001b[0m\u001b[1;33m\u001b[0m\u001b[0m\n",
      "\u001b[1;31mValueError\u001b[0m: labels ['Time_Info' 'Date' 'Time' 'No_of_Retweets' 'Favorite_Count' 'Place'\n 'Time_Zone'] not contained in axis"
     ]
    }
   ],
   "source": [
    "dataf.drop(['Time_Info','Date','Time','No_of_Retweets','Favorite_Count','Place','Time_Zone'],axis=1,inplace=True)"
   ]
  },
  {
   "cell_type": "code",
   "execution_count": 42,
   "metadata": {
    "collapsed": true
   },
   "outputs": [],
   "source": [
    "### Data Preprocessing"
   ]
  },
  {
   "cell_type": "code",
   "execution_count": 83,
   "metadata": {
    "scrolled": true
   },
   "outputs": [
    {
     "data": {
      "text/html": [
       "<div>\n",
       "<style>\n",
       "    .dataframe thead tr:only-child th {\n",
       "        text-align: right;\n",
       "    }\n",
       "\n",
       "    .dataframe thead th {\n",
       "        text-align: left;\n",
       "    }\n",
       "\n",
       "    .dataframe tbody tr th {\n",
       "        vertical-align: top;\n",
       "    }\n",
       "</style>\n",
       "<table border=\"1\" class=\"dataframe\">\n",
       "  <thead>\n",
       "    <tr style=\"text-align: right;\">\n",
       "      <th></th>\n",
       "      <th>Tweet_ID</th>\n",
       "      <th>User_Name</th>\n",
       "      <th>Brand Name</th>\n",
       "      <th>TweetText</th>\n",
       "      <th>pre_clean_len</th>\n",
       "    </tr>\n",
       "  </thead>\n",
       "  <tbody>\n",
       "    <tr>\n",
       "      <th>0</th>\n",
       "      <td>9.882590e+17</td>\n",
       "      <td>Fahad21_KW</td>\n",
       "      <td>ASOS</td>\n",
       "      <td>b'@aaaakandery  \\xd8\\xa7\\xd9\\x86\\xd8\\xa7 \\xd8\\...</td>\n",
       "      <td>674</td>\n",
       "    </tr>\n",
       "    <tr>\n",
       "      <th>1</th>\n",
       "      <td>9.882590e+17</td>\n",
       "      <td>Fahad21_KW</td>\n",
       "      <td>ASOS</td>\n",
       "      <td>b'@kuwait_post \\xd8\\xa7\\xd9\\x86\\xd8\\xa7 \\xd8\\x...</td>\n",
       "      <td>673</td>\n",
       "    </tr>\n",
       "    <tr>\n",
       "      <th>2</th>\n",
       "      <td>9.882580e+17</td>\n",
       "      <td>azkabanbitch</td>\n",
       "      <td>ASOS</td>\n",
       "      <td>b'RT @colesprouse: New Cover and story for @AS...</td>\n",
       "      <td>153</td>\n",
       "    </tr>\n",
       "    <tr>\n",
       "      <th>3</th>\n",
       "      <td>9.882580e+17</td>\n",
       "      <td>Arthuralvessz</td>\n",
       "      <td>ASOS</td>\n",
       "      <td>b'Mudei meu vocabul\\xc3\\xa1rio querendo te imp...</td>\n",
       "      <td>168</td>\n",
       "    </tr>\n",
       "    <tr>\n",
       "      <th>4</th>\n",
       "      <td>9.882570e+17</td>\n",
       "      <td>braybillions</td>\n",
       "      <td>ASOS</td>\n",
       "      <td>b'he copped that fit off Asos. https://t.co/D0...</td>\n",
       "      <td>55</td>\n",
       "    </tr>\n",
       "  </tbody>\n",
       "</table>\n",
       "</div>"
      ],
      "text/plain": [
       "       Tweet_ID      User_Name Brand Name  \\\n",
       "0  9.882590e+17     Fahad21_KW       ASOS   \n",
       "1  9.882590e+17     Fahad21_KW       ASOS   \n",
       "2  9.882580e+17   azkabanbitch       ASOS   \n",
       "3  9.882580e+17  Arthuralvessz       ASOS   \n",
       "4  9.882570e+17   braybillions       ASOS   \n",
       "\n",
       "                                           TweetText  pre_clean_len  \n",
       "0  b'@aaaakandery  \\xd8\\xa7\\xd9\\x86\\xd8\\xa7 \\xd8\\...            674  \n",
       "1  b'@kuwait_post \\xd8\\xa7\\xd9\\x86\\xd8\\xa7 \\xd8\\x...            673  \n",
       "2  b'RT @colesprouse: New Cover and story for @AS...            153  \n",
       "3  b'Mudei meu vocabul\\xc3\\xa1rio querendo te imp...            168  \n",
       "4  b'he copped that fit off Asos. https://t.co/D0...             55  "
      ]
     },
     "execution_count": 83,
     "metadata": {},
     "output_type": "execute_result"
    }
   ],
   "source": [
    "dataf.head()"
   ]
  },
  {
   "cell_type": "code",
   "execution_count": 27,
   "metadata": {
    "collapsed": true
   },
   "outputs": [],
   "source": [
    "###Data Preprocessing----------------------------------------------------------------------------------------------------------\n",
    "#As a way of sanity check, let's look at the length of the string in text column in each entry.\n",
    "\n",
    "dataf['pre_clean_len'] = [len(t) for t in dataf.TweetText]"
   ]
  },
  {
   "cell_type": "code",
   "execution_count": 28,
   "metadata": {},
   "outputs": [
    {
     "data": {
      "text/html": [
       "<div>\n",
       "<style>\n",
       "    .dataframe thead tr:only-child th {\n",
       "        text-align: right;\n",
       "    }\n",
       "\n",
       "    .dataframe thead th {\n",
       "        text-align: left;\n",
       "    }\n",
       "\n",
       "    .dataframe tbody tr th {\n",
       "        vertical-align: top;\n",
       "    }\n",
       "</style>\n",
       "<table border=\"1\" class=\"dataframe\">\n",
       "  <thead>\n",
       "    <tr style=\"text-align: right;\">\n",
       "      <th></th>\n",
       "      <th>Tweet_ID</th>\n",
       "      <th>User_Name</th>\n",
       "      <th>Brand Name</th>\n",
       "      <th>TweetText</th>\n",
       "      <th>pre_clean_len</th>\n",
       "    </tr>\n",
       "  </thead>\n",
       "  <tbody>\n",
       "    <tr>\n",
       "      <th>0</th>\n",
       "      <td>9.882590e+17</td>\n",
       "      <td>Fahad21_KW</td>\n",
       "      <td>ASOS</td>\n",
       "      <td>b'@aaaakandery  \\xd8\\xa7\\xd9\\x86\\xd8\\xa7 \\xd8\\...</td>\n",
       "      <td>674</td>\n",
       "    </tr>\n",
       "    <tr>\n",
       "      <th>1</th>\n",
       "      <td>9.882590e+17</td>\n",
       "      <td>Fahad21_KW</td>\n",
       "      <td>ASOS</td>\n",
       "      <td>b'@kuwait_post \\xd8\\xa7\\xd9\\x86\\xd8\\xa7 \\xd8\\x...</td>\n",
       "      <td>673</td>\n",
       "    </tr>\n",
       "    <tr>\n",
       "      <th>2</th>\n",
       "      <td>9.882580e+17</td>\n",
       "      <td>azkabanbitch</td>\n",
       "      <td>ASOS</td>\n",
       "      <td>b'RT @colesprouse: New Cover and story for @AS...</td>\n",
       "      <td>153</td>\n",
       "    </tr>\n",
       "    <tr>\n",
       "      <th>3</th>\n",
       "      <td>9.882580e+17</td>\n",
       "      <td>Arthuralvessz</td>\n",
       "      <td>ASOS</td>\n",
       "      <td>b'Mudei meu vocabul\\xc3\\xa1rio querendo te imp...</td>\n",
       "      <td>168</td>\n",
       "    </tr>\n",
       "    <tr>\n",
       "      <th>4</th>\n",
       "      <td>9.882570e+17</td>\n",
       "      <td>braybillions</td>\n",
       "      <td>ASOS</td>\n",
       "      <td>b'he copped that fit off Asos. https://t.co/D0...</td>\n",
       "      <td>55</td>\n",
       "    </tr>\n",
       "  </tbody>\n",
       "</table>\n",
       "</div>"
      ],
      "text/plain": [
       "       Tweet_ID      User_Name Brand Name  \\\n",
       "0  9.882590e+17     Fahad21_KW       ASOS   \n",
       "1  9.882590e+17     Fahad21_KW       ASOS   \n",
       "2  9.882580e+17   azkabanbitch       ASOS   \n",
       "3  9.882580e+17  Arthuralvessz       ASOS   \n",
       "4  9.882570e+17   braybillions       ASOS   \n",
       "\n",
       "                                           TweetText  pre_clean_len  \n",
       "0  b'@aaaakandery  \\xd8\\xa7\\xd9\\x86\\xd8\\xa7 \\xd8\\...            674  \n",
       "1  b'@kuwait_post \\xd8\\xa7\\xd9\\x86\\xd8\\xa7 \\xd8\\x...            673  \n",
       "2  b'RT @colesprouse: New Cover and story for @AS...            153  \n",
       "3  b'Mudei meu vocabul\\xc3\\xa1rio querendo te imp...            168  \n",
       "4  b'he copped that fit off Asos. https://t.co/D0...             55  "
      ]
     },
     "execution_count": 28,
     "metadata": {},
     "output_type": "execute_result"
    }
   ],
   "source": [
    "dataf.head(5)"
   ]
  },
  {
   "cell_type": "code",
   "execution_count": 50,
   "metadata": {},
   "outputs": [
    {
     "name": "stdout",
     "output_type": "stream",
     "text": [
      "b'RT @Greice_0209: Gostei de um v\\xc3\\xaddeo @YouTube https://t.co/03qd4EBylQ: Desfile de Moda da ASOS // The Sims M\\xc3\\xb3vel no emulador #5 \\xe2\\x80\\xb9 Mundo DRIX\\xe2\\x80\\xa6'\n"
     ]
    }
   ],
   "source": [
    "from bs4 import BeautifulSoup\n",
    "#_________---------------------------------------\n",
    "example1 = BeautifulSoup(dataf.TweetText[279], 'lxml')\n",
    "print(example1.get_text())"
   ]
  },
  {
   "cell_type": "code",
   "execution_count": 58,
   "metadata": {},
   "outputs": [
    {
     "data": {
      "text/plain": [
       "\"b'Are you kidding @ASOS_Menswear ?!? This was the clothes I was gonna wear to Bae\\\\xe2\\\\x80\\\\x99s graduation!!!! OMGGG WTF!!! https://t.co/wB983hsiSK'\""
      ]
     },
     "execution_count": 58,
     "metadata": {},
     "output_type": "execute_result"
    }
   ],
   "source": [
    "dataf.TweetText[17]"
   ]
  },
  {
   "cell_type": "code",
   "execution_count": 59,
   "metadata": {},
   "outputs": [
    {
     "name": "stdout",
     "output_type": "stream",
     "text": [
      "b'Are you kidding @ASOS_Menswear ?!? This was the clothes I was gonna wear to Bae\\xe2\\x80\\x99s graduation!!!! OMGGG WTF!!! https://t.co/wB983hsiSK'\n"
     ]
    }
   ],
   "source": [
    "example1 = BeautifulSoup(dataf.TweetText[17], 'lxml')\n",
    "print(example1.get_text())"
   ]
  },
  {
   "cell_type": "code",
   "execution_count": 60,
   "metadata": {
    "collapsed": true
   },
   "outputs": [],
   "source": [
    "### @mention removal"
   ]
  },
  {
   "cell_type": "code",
   "execution_count": 61,
   "metadata": {},
   "outputs": [
    {
     "data": {
      "text/plain": [
       "\"b'Are you kidding _Menswear ?!? This was the clothes I was gonna wear to Bae\\\\xe2\\\\x80\\\\x99s graduation!!!! OMGGG WTF!!! https://t.co/wB983hsiSK'\""
      ]
     },
     "execution_count": 61,
     "metadata": {},
     "output_type": "execute_result"
    }
   ],
   "source": [
    "# Remove mentions\n",
    "\n",
    "import re\n",
    "re.sub(r'@[A-Za-z0-9]+','',dataf.TweetText[17])"
   ]
  },
  {
   "cell_type": "code",
   "execution_count": null,
   "metadata": {
    "collapsed": true
   },
   "outputs": [],
   "source": [
    "# Removal of website addresses in tweet text"
   ]
  },
  {
   "cell_type": "code",
   "execution_count": 63,
   "metadata": {},
   "outputs": [
    {
     "data": {
      "text/plain": [
       "\"b'Are you kidding @ASOS_Menswear ?!? This was the clothes I was gonna wear to Bae\\\\xe2\\\\x80\\\\x99s graduation!!!! OMGGG WTF!!! '\""
      ]
     },
     "execution_count": 63,
     "metadata": {},
     "output_type": "execute_result"
    }
   ],
   "source": [
    "\n",
    "re.sub('https?://[A-Za-z0-9./]+','',dataf.TweetText[17])"
   ]
  },
  {
   "cell_type": "code",
   "execution_count": 75,
   "metadata": {},
   "outputs": [
    {
     "name": "stdout",
     "output_type": "stream",
     "text": [
      "b'Are you kidding @ASOS_Menswear ?!? This was the clothes I was gonna wear to Bae\\xe2\\x80\\x99s graduation!!!! OMGGG WTF!!! https://t.co/wB983hsiSK'\n",
      "\n",
      "b'Are you kidding @ASOS_Menswear ?!? This was the clothes I was gonna wear to Bae\\xe2\\x80\\x99s graduation!!!! OMGGG WTF!!! https://t.co/wB983hsiSK'\n"
     ]
    }
   ],
   "source": [
    "print(dataf.TweetText[17])\n",
    "testing = dataf.TweetText[17].replace(\"Bae\\xe2\\x80\\x99s\", \"?\")\n",
    "print(\"\\n\"+ testing)"
   ]
  },
  {
   "cell_type": "markdown",
   "metadata": {},
   "source": [
    "dataf.TweetText[228]"
   ]
  },
  {
   "cell_type": "code",
   "execution_count": 101,
   "metadata": {},
   "outputs": [
    {
     "data": {
      "text/plain": [
       "'b\"So good I had to share! Check out all the items I\\'m loving on @Poshmarkapp #poshmark #fashion #style #shopmycloset\\\\xe2\\\\x80\\\\xa6 https://t.co/2Sk0IZQLZL\"'"
      ]
     },
     "execution_count": 101,
     "metadata": {},
     "output_type": "execute_result"
    }
   ],
   "source": [
    "dataf.TweetText[128]"
   ]
  },
  {
   "cell_type": "code",
   "execution_count": 103,
   "metadata": {},
   "outputs": [
    {
     "data": {
      "text/plain": [
       "'b So good I had to share  Check out all the items I m loving on  Poshmarkapp  poshmark  fashion  style  shopmycloset xe  x   xa  https   t co  Sk IZQLZL '"
      ]
     },
     "execution_count": 103,
     "metadata": {},
     "output_type": "execute_result"
    }
   ],
   "source": [
    "re.sub(\"[^a-zA-Z]\", \" \", dataf.TweetText[128])"
   ]
  },
  {
   "cell_type": "code",
   "execution_count": 108,
   "metadata": {
    "collapsed": true
   },
   "outputs": [],
   "source": [
    "\n",
    "from nltk.tokenize import WordPunctTokenizer\n",
    "tok = WordPunctTokenizer()"
   ]
  },
  {
   "cell_type": "code",
   "execution_count": 109,
   "metadata": {
    "collapsed": true
   },
   "outputs": [],
   "source": [
    "\n",
    "pat1 = r'@[A-Za-z0-9]+'\n",
    "pat2 = r'https?://[A-Za-z0-9./]+'\n",
    "combined_pat = r'|'.join((pat1, pat2))\n",
    "\n",
    "def tweet_cleaner(text):\n",
    "    soup = BeautifulSoup(text, 'lxml')\n",
    "    souped = soup.get_text()\n",
    "    stripped = re.sub(combined_pat, '', souped)\n",
    "    try:\n",
    "        clean = stripped.decode(\"utf-8-sig\").replace(u\"\\ufffd\", \"?\")\n",
    "    except:\n",
    "        clean = stripped\n",
    "    letters_only = re.sub(\"[^a-zA-Z]\", \" \", clean)\n",
    "    lower_case = letters_only.lower()\n",
    "    # During the letters_only process two lines above, it has created unnecessay white spaces,\n",
    "    # I will tokenize and join together to remove unneccessary white spaces\n",
    "    words = tok.tokenize(lower_case)\n",
    "    return (\" \".join(words)).strip()"
   ]
  },
  {
   "cell_type": "code",
   "execution_count": 110,
   "metadata": {
    "collapsed": true
   },
   "outputs": [],
   "source": [
    "testing = dataf.TweetText[:]"
   ]
  },
  {
   "cell_type": "code",
   "execution_count": 111,
   "metadata": {
    "collapsed": true
   },
   "outputs": [],
   "source": [
    "test_result = []\n",
    "for t in testing:\n",
    "    test_result.append(tweet_cleaner(t))"
   ]
  },
  {
   "cell_type": "code",
   "execution_count": 113,
   "metadata": {
    "collapsed": true
   },
   "outputs": [],
   "source": [
    "#test_result"
   ]
  }
 ],
 "metadata": {
  "kernelspec": {
   "display_name": "Python 3",
   "language": "python",
   "name": "python3"
  },
  "language_info": {
   "codemirror_mode": {
    "name": "ipython",
    "version": 3
   },
   "file_extension": ".py",
   "mimetype": "text/x-python",
   "name": "python",
   "nbconvert_exporter": "python",
   "pygments_lexer": "ipython3",
   "version": "3.6.1"
  }
 },
 "nbformat": 4,
 "nbformat_minor": 2
}
